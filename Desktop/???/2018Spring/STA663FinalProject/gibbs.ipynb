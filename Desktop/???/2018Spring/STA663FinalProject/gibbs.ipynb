{
 "cells": [
  {
   "cell_type": "code",
   "execution_count": null,
   "metadata": {},
   "outputs": [],
   "source": [
    "#initial alpha, K_p, sigma_x, sigma_a\n",
    "mcmc = 1000\n",
    "N = X.shape(0)\n",
    "alpha = np.zeros(mcmc)\n",
    "sigma_a = np.zeros(mcmc)\n",
    "sigma_x = np.zeros(mcmc)\n",
    "K_plus = np.zeros(mcmc)\n",
    "\n",
    "#initial matrix Z\n",
    "Z = np.array(np.random.choice(2,N,p = [0.5,0.5]))\n",
    "\n",
    "\n",
    "alpha[0] = 1/2\n",
    "sigma_a[0] = 0.5\n",
    "sigma_x[0] = 1.7\n",
    "K_plus[0] = 1\n",
    "\n",
    "for i in range(1,mcmc):\n",
    "    #compuate likelihood\n",
    "    LH = full_X(Z,X,sigma_x,sigma_a)   \n",
    "    for im in range(0,N): #loop over each image\n",
    "        #sample K---num of new features\n",
    "        new_k = new_K(alpha,N,Z,sigma_x,sigma_a,im)\n",
    "        new_zi = np.zeros((N,new_k))\n",
    "        new_zi[im,:] = np.ones((1,new_k))\n",
    "        Z = np.hstack([Z,new_zi.reshape(N,new_k)]) # attach new features to Z matrix\n",
    "        \n",
    "        #sample new Z_i\n",
    "        for k in K:\n",
    "            z_sum = np.sum(Z[0:im,k])+np.sum(Z[im+1:N,k])\n",
    "            Z[im,k] = full_X(Z,X,sigma_x,sigma_a)*z_sum/N\n",
    "        \n",
    "        \n",
    "        #sample a new sigma_x with MH\n",
    "        for mh in range(0,400):\n",
    "            \n",
    "            sig_x_prior = 1/np.random.gamma(2,2)\n",
    "            \n",
    "    \n",
    "        #sample a new sigma_a with MH\n",
    "        \n",
    "    "
   ]
  },
  {
   "cell_type": "code",
   "execution_count": 2,
   "metadata": {},
   "outputs": [],
   "source": [
    "#probability calculation\n",
    "# X -- N*D, Z -- N*K\n",
    "import numpy as np\n",
    "import numpy.linalg\n",
    "\n",
    "def full_X(Z,X,s_x, s_a):\n",
    "    D = X.shape(1)\n",
    "    N = Z.shape(0)\n",
    "    K = Z.shape(1)\n",
    "    \"\"\"The constant part\"\"\"\n",
    "    zz = Z.T@Z+np.diag([s_x**2/s_a**2]*K) #zz -- K*K\n",
    "    determ = np.linal.det(zz)\n",
    "    const = (2*math.pi)**(N*D/2) * s_x**(N*D-K*D) * determ**(D/2)\n",
    "    const = 1/const\n",
    "    \"\"\"The exponential part\"\"\"\n",
    "    ii =  np.eye(N)-Z @ np.linalg.inv(zz) @ Z.T\n",
    "    tr =  np.trace(X.T @ ii @X)\n",
    "    expon = math.exp(-tr/(2*s_x**2))\n",
    "    return(const*expon)"
   ]
  },
  {
   "cell_type": "code",
   "execution_count": 27,
   "metadata": {},
   "outputs": [],
   "source": [
    "##????? 得想想\n",
    "\n",
    "def new_K(alpha,N,Z,s_x,s_a,obj):\n",
    "    k_prob = np.zeros(10)\n",
    "    for i in range(0,10):\n",
    "        l = alpha/N\n",
    "        new_zi = np.zeros((N,i))\n",
    "        new_zi[obj,:] = np.ones((1,i))\n",
    "        new_Z = np.hstack([Z,new_zi.reshape(N,i)])\n",
    "        LH = full_X(new_Z,X,s_x, s_a)\n",
    "        k_prob[i] = LH * (l**i)*math.exp(-l)/math.factorial(i) #likelihood*prior = posterior\n",
    "        \n",
    "    return(np.random.choice(10, 1, p=k_prob))"
   ]
  },
  {
   "cell_type": "code",
   "execution_count": null,
   "metadata": {},
   "outputs": [],
   "source": [
    "def sigma()"
   ]
  },
  {
   "cell_type": "code",
   "execution_count": null,
   "metadata": {},
   "outputs": [],
   "source": []
  },
  {
   "cell_type": "code",
   "execution_count": 31,
   "metadata": {},
   "outputs": [
    {
     "data": {
      "text/plain": [
       "(array([1, 0, 0, 1, 0, 1, 0, 0, 1, 1]), array([1, 0, 0]))"
      ]
     },
     "execution_count": 31,
     "metadata": {},
     "output_type": "execute_result"
    }
   ],
   "source": [
    "Z = np.array(np.random.choice(2,10,p = [0.5,0.5]))\n",
    "Z,Z[0:3]"
   ]
  },
  {
   "cell_type": "code",
   "execution_count": 22,
   "metadata": {},
   "outputs": [
    {
     "data": {
      "text/plain": [
       "array([[1., 0., 0., 0., 0., 0., 0., 0.],\n",
       "       [0., 1., 0., 0., 0., 1., 1., 1.],\n",
       "       [0., 0., 1., 0., 0., 0., 0., 0.],\n",
       "       [0., 0., 0., 1., 0., 0., 0., 0.],\n",
       "       [0., 0., 0., 0., 1., 0., 0., 0.]])"
      ]
     },
     "execution_count": 22,
     "metadata": {},
     "output_type": "execute_result"
    }
   ],
   "source": [
    "N = 5\n",
    "i=3\n",
    "Z = np.eye(5)\n",
    "obj = 1\n",
    "new_zi = np.zeros((N,i))\n",
    "new_zi[obj,:] = np.ones((1,i))\n",
    "new_Z = np.hstack([Z,new_zi.reshape(N,i)])\n",
    "new_Z"
   ]
  },
  {
   "cell_type": "code",
   "execution_count": null,
   "metadata": {},
   "outputs": [],
   "source": []
  }
 ],
 "metadata": {
  "kernelspec": {
   "display_name": "Python 3",
   "language": "python",
   "name": "python3"
  },
  "language_info": {
   "codemirror_mode": {
    "name": "ipython",
    "version": 3
   },
   "file_extension": ".py",
   "mimetype": "text/x-python",
   "name": "python",
   "nbconvert_exporter": "python",
   "pygments_lexer": "ipython3",
   "version": "3.6.4"
  }
 },
 "nbformat": 4,
 "nbformat_minor": 2
}
