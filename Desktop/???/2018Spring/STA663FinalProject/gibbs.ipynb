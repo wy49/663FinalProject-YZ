{
 "cells": [
  {
   "cell_type": "code",
   "execution_count": 197,
   "metadata": {},
   "outputs": [],
   "source": [
    "np.random.seed(123)\n",
    "\n",
    "#weights matrix\n",
    "A=np.array([[0,1,0,0,0,0,1,1,1,0,0,0,0,1,0,0,0,0,0,0,0,0,0,0,0,0,0,0,0,0,0,0,0,0,0,0],\n",
    "   [0,0,0,1,1,1,0,0,0,1,0,1,0,0,0,1,1,1,0,0,0,0,0,0,0,0,0,0,0,0,0,0,0,0,0,0],\n",
    "   [0,0,0,0,0,0,0,0,0,0,0,0,0,0,0,0,0,0,1,0,0,0,0,0,1,1,0,0,0,0,1,1,1,0,0,0],\n",
    "   [0,0,0,0,0,0,0,0,0,0,0,0,0,0,0,0,0,0,0,0,0,1,1,1,0,0,0,0,1,0,0,0,0,0,1,0]])\n",
    "\n",
    "#data simulation\n",
    "num_objects=100\n",
    "object_dim=36\n",
    " \n",
    "sigma_x_orig=0.5\n",
    "\n",
    "I=sigma_x_orig*np.eye(object_dim)\n",
    "Z_orig=np.zeros((num_objects,4))\n",
    "\n",
    "X=np.zeros((num_objects,object_dim))\n",
    "\n",
    "for i in range(num_objects):\n",
    "    Z_orig[i,:]=(np.random.uniform(0,1,4)>0.5)\n",
    "    while sum(Z_orig[i,:])==0:\n",
    "        Z_orig[i,:]=(np.random.uniform(0,1,4)>0.5)\n",
    "    X[i,:]=np.dot(np.random.normal(0,1,object_dim),I)+np.dot(Z_orig[i,:],A)"
   ]
  },
  {
   "cell_type": "code",
   "execution_count": null,
   "metadata": {},
   "outputs": [],
   "source": [
    "#initial alpha, K_p, sigma_x, sigma_a\n",
    "np.random.seed(123)\n",
    "\n",
    "mcmc = 8\n",
    "N = X.shape[0]\n",
    "chain_alpha = np.zeros(mcmc)\n",
    "chain_sigma_a = np.zeros(mcmc)\n",
    "chain_sigma_x = np.zeros(mcmc)\n",
    "chain_K_plus = np.zeros(mcmc)\n",
    "\n",
    "#initial matrix Z\n",
    "Z = np.array(np.random.choice(2,N,p = [0.5,0.5])).reshape(N,1)\n",
    "\n",
    "\n",
    "chain_alpha[0] = alpha = 1/2\n",
    "chain_sigma_a[0] = sigma_a = 0.5\n",
    "chain_sigma_x[0] = sigma_x = 0.7\n",
    "chain_K_plus[0] = K = 1\n",
    "\n",
    "Hn = 0\n",
    "for i in range(1,mcmc):\n",
    "    #gibbs\n",
    "    Hn = Hn + 1/i\n",
    "    alpha = np.random.gamma(1/2+K,1/(0.5+Hn))\n",
    "    for im in range(0,N): #loop over each image\n",
    "        #sample K---num of new features\n",
    "        new_k = new_K(alpha,N,Z,sigma_x,sigma_a,im)\n",
    "        new_zi = np.zeros((N,new_k[0]))\n",
    "        new_zi[im,:] = np.ones((1,new_k[0]))\n",
    "        Z = np.hstack([Z,new_zi.reshape(N,new_k[0])])\n",
    "        K = K + new_k[0]# attach new features to Z matrix\n",
    "        \n",
    "         #sample new Z_i\n",
    "        for k in range(0,Z.shape[1]):\n",
    "            zk_sum = np.sum(Z[0:im,k])+np.sum(Z[im+1:N,k])+1\n",
    "            if zk_sum == 0:\n",
    "                lz = 0\n",
    "            else:\n",
    "                if zk_sum == N:\n",
    "                    lz0 = 0\n",
    "                else:\n",
    "                    lz0 = np.log(1-zk_sum/N)\n",
    "                    lz = np.log(zk_sum/N)\n",
    "            Z[im,k] = 1\n",
    "            p1 = full_X(Z,X,sigma_x,sigma_a)+lz\n",
    "            Z[im,k] = 0\n",
    "            p0 = full_X(Z,X,sigma_x,sigma_a)+lz0\n",
    "            if(p1 > p0):\n",
    "                Z[im,k] = 1\n",
    "            else:\n",
    "                Z[im,k] = 0\n",
    "            \n",
    "            \n",
    "        #sample a new sigma_x and sigma_a with MH,invgamma(2,2) prior/invgamma(1,1) proposal\n",
    "#         for mh in range(0,5):\n",
    "#             '''propose new sigma_x'''\n",
    "#             sig_x_str = 1/np.random.gamma(1,1)#propose a new sigma_x from invgamma(1,1)\n",
    "#             pos_str = full_X(Z,X,sig_x_str,sigma_a)-3*np.log(sig_x_str)-1/(2*sig_x_str)\n",
    "#             pos = full_X(Z,X,sigma_x,sigma_a)-3*np.log(sigma_x)-1/(2*sigma_x)\n",
    "#             if((pos_str-pos) > 0):\n",
    "#                 sigma_x = sig_x_str\n",
    "#             else:\n",
    "#                 move = np.random.rand(1)\n",
    "#                 if(np.log(move) < (pos_str-pos)):\n",
    "#                     sigma_x = sig_x_str\n",
    "#             '''propose new sigma_a'''\n",
    "#             sig_a_str = 1/np.random.gamma(1,1)\n",
    "#             pos_str = full_X(Z,X,sigma_x,sig_a_str)-3*np.log(sig_a_str)-1/(2*sig_a_str)\n",
    "#             pos = full_X(Z,X,sigma_x,sigma_a)-3*np.log(sigma_a)-1/(2*sigma_a)\n",
    "#             if((pos_str-pos) > 0):\n",
    "#                 sigma_a = sig_a_str\n",
    "#             else:\n",
    "#                 move = np.random.rand(1)\n",
    "#                 if(np.log(move) < (pos_str-pos)):\n",
    "#                     sigma_a = sig_a_str\n",
    "    \n",
    "    #remove feature with only object\n",
    "    \n",
    "    #store chain values                \n",
    "    chain_alpha[i] = alpha\n",
    "    chain_sigma_a[i] = sigma_a\n",
    "    chain_sigma_x[i] = sigma_x\n",
    "    chain_K_plus[i] = K\n",
    "    "
   ]
  },
  {
   "cell_type": "code",
   "execution_count": 146,
   "metadata": {},
   "outputs": [],
   "source": [
    "#probability calculation\n",
    "# X -- N*D, Z -- N*K\n",
    "import numpy as np\n",
    "import numpy.linalg\n",
    "import math\n",
    "\n",
    "def full_X(Z,X,s_x,s_a):\n",
    "    D = X.shape[1]\n",
    "    N = Z.shape[0]\n",
    "    K = Z.shape[1]\n",
    "    \"\"\"The constant part\"\"\"\n",
    "    zz = Z.T@Z+np.diag([(s_x**2)/(s_a**2)]*K) #zz -- K*K\n",
    "    determ = np.linalg.det(zz)\n",
    "    log_const = 0.5*N*D*np.log(2*np.pi)+(N-K)*D*np.log(sigma_x)+K*D*np.log(sigma_a)+0.5*D*np.log(determ)\n",
    "    log_const = -log_const\n",
    "    #const = np.exp(-log_const)\n",
    "    \"\"\"The exponential part\"\"\"\n",
    "    ii =  np.eye(N)-Z @ np.linalg.inv(zz) @ Z.T\n",
    "    tr =  np.trace(X.T @ ii @X)\n",
    "    expon = -tr/(2*s_x**2)\n",
    "    return(log_const+expon)\n",
    "    #expon = np.exp(-tr/(2*s_x**2))\n",
    "    #return(const*expon)"
   ]
  },
  {
   "cell_type": "code",
   "execution_count": 204,
   "metadata": {},
   "outputs": [
    {
     "data": {
      "text/plain": [
       "(array([6]), 6)"
      ]
     },
     "execution_count": 204,
     "metadata": {},
     "output_type": "execute_result"
    }
   ],
   "source": [
    "LH = full_X(Z,X,sigma_x,sigma_a)\n",
    "l = alpha/N\n",
    "new_zi = np.zeros((N,1))\n",
    "new_zi[im,:] = np.ones((1,1))\n",
    "new_Z = np.hstack([Z,new_zi.reshape(N,1)])\n",
    "LH = full_X(new_Z,X,sigma_x,sigma_a)\n",
    "log_prior = i*np.log(l)-l-0\n",
    "a =new_K(alpha,N,Z,sigma_x,sigma_a,0)\n",
    "a,a[0]"
   ]
  },
  {
   "cell_type": "code",
   "execution_count": 202,
   "metadata": {},
   "outputs": [],
   "source": [
    "#sample the number of new dishes\n",
    "def new_K(alpha,N,Z,s_x,s_a,obj):\n",
    "    k_prob = np.zeros(10)\n",
    "    for i in range(0,10):\n",
    "        l = alpha/N\n",
    "        new_zi = np.zeros((N,i))\n",
    "        new_zi[obj,:] = np.ones((1,i))\n",
    "        new_Z = np.hstack([Z,new_zi.reshape(N,i)])\n",
    "        LH = full_X(new_Z,X,s_x, s_a)\n",
    "        log_prior = i*np.log(l)-l-np.log(math.factorial(i))\n",
    "        k_prob[i] = LH + log_prior#likelihood*prior = posterior\n",
    "        #k_prob[i] = np.exp(k_prob[i])\n",
    "        #if (k_prob[i] > 1 or k_prob[i] < 0):\n",
    "        #    return(i)\n",
    "    \n",
    "    k_prob = k_prob/sum(k_prob)\n",
    "    if (abs(sum(k_prob)-1)>0.001):\n",
    "        return(sum(k_prob),'wrong k sum')\n",
    "    \n",
    "    new_k = np.random.choice(10,1,p = k_prob)\n",
    "    return (new_k)\n",
    "# s = 0\n",
    "#    u = np.random.rand(1)\n",
    "#    new_k = 0\n",
    "# for j in range(0,10):\n",
    "#        s = s+k_prob[j]\n",
    "#        if u<s:\n",
    "#            new_k = k_prob[j]\n",
    "#            break\n",
    "            \n",
    "   "
   ]
  },
  {
   "cell_type": "code",
   "execution_count": 31,
   "metadata": {},
   "outputs": [
    {
     "data": {
      "text/plain": [
       "(array([1, 0, 0, 1, 0, 1, 0, 0, 1, 1]), array([1, 0, 0]))"
      ]
     },
     "execution_count": 31,
     "metadata": {},
     "output_type": "execute_result"
    }
   ],
   "source": [
    "Z = np.array(np.random.choice(2,10,p = [0.5,0.5]))\n",
    "Z,Z[0:3]"
   ]
  },
  {
   "cell_type": "code",
   "execution_count": 22,
   "metadata": {},
   "outputs": [
    {
     "data": {
      "text/plain": [
       "array([[1., 0., 0., 0., 0., 0., 0., 0.],\n",
       "       [0., 1., 0., 0., 0., 1., 1., 1.],\n",
       "       [0., 0., 1., 0., 0., 0., 0., 0.],\n",
       "       [0., 0., 0., 1., 0., 0., 0., 0.],\n",
       "       [0., 0., 0., 0., 1., 0., 0., 0.]])"
      ]
     },
     "execution_count": 22,
     "metadata": {},
     "output_type": "execute_result"
    }
   ],
   "source": [
    "N = 5\n",
    "i=3\n",
    "Z = np.eye(5)\n",
    "obj = 1\n",
    "new_zi = np.zeros((N,i))\n",
    "new_zi[obj,:] = np.ones((1,i))\n",
    "new_Z = np.hstack([Z,new_zi.reshape(N,i)])\n",
    "new_Z"
   ]
  },
  {
   "cell_type": "code",
   "execution_count": 8,
   "metadata": {},
   "outputs": [
    {
     "data": {
      "text/plain": [
       "1.5689899151946927"
      ]
     },
     "execution_count": 8,
     "metadata": {},
     "output_type": "execute_result"
    }
   ],
   "source": [
    "sig_x = 1/np.random.gamma(2,0.5)\n",
    "sig_x**(-2-1)/math.gamma(2) * math.exp(-1/(2*sig_x))"
   ]
  },
  {
   "cell_type": "code",
   "execution_count": 148,
   "metadata": {},
   "outputs": [
    {
     "data": {
      "text/plain": [
       "-4044.8568690845223"
      ]
     },
     "execution_count": 148,
     "metadata": {},
     "output_type": "execute_result"
    }
   ],
   "source": [
    "def likelihood(X, Z, sigma_A, sigma_X, K_plus, num_objects, object_dim):\n",
    "    \"\"\"cythonized likelihood\"\"\"\n",
    "    M1 = (np.dot(Z.T,Z) + np.dot((sigma_X**2/sigma_A**2),np.eye(K_plus)))\n",
    "    log_ll=(-1)*num_objects*object_dim*0.5*np.log(2*np.pi)-1*(num_objects-K_plus)*object_dim*np.log(sigma_X)-K_plus*object_dim*np.log(sigma_A)-object_dim*(0.5)*np.log(np.linalg.det(M1))+(-1/(2*sigma_X**2))*np.trace(np.dot(np.dot(X.T,(np.eye(num_objects)-np.dot(np.dot(Z,np.linalg.inv(M1)),Z.T))),X))\n",
    "    return log_ll\n",
    "\n",
    "likelihood(X,Z,sigma_a,sigma_x,K,100,36)"
   ]
  },
  {
   "cell_type": "code",
   "execution_count": 200,
   "metadata": {},
   "outputs": [
    {
     "data": {
      "text/plain": [
       "array([56])"
      ]
     },
     "execution_count": 200,
     "metadata": {},
     "output_type": "execute_result"
    }
   ],
   "source": [
    "Z = np.array(np.random.choice(2,N,p = [0.5,0.5])).reshape(N,1)\n",
    "np.sum(Z,axis=0)"
   ]
  },
  {
   "cell_type": "code",
   "execution_count": 210,
   "metadata": {},
   "outputs": [
    {
     "data": {
      "text/plain": [
       "-4.605170185988091"
      ]
     },
     "execution_count": 210,
     "metadata": {},
     "output_type": "execute_result"
    }
   ],
   "source": [
    "np.log(1/100)"
   ]
  },
  {
   "cell_type": "code",
   "execution_count": null,
   "metadata": {},
   "outputs": [],
   "source": []
  }
 ],
 "metadata": {
  "kernelspec": {
   "display_name": "Python 3",
   "language": "python",
   "name": "python3"
  },
  "language_info": {
   "codemirror_mode": {
    "name": "ipython",
    "version": 3
   },
   "file_extension": ".py",
   "mimetype": "text/x-python",
   "name": "python",
   "nbconvert_exporter": "python",
   "pygments_lexer": "ipython3",
   "version": "3.6.4"
  }
 },
 "nbformat": 4,
 "nbformat_minor": 2
}
