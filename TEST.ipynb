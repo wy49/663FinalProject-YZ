{
 "cells": [
  {
   "cell_type": "code",
   "execution_count": 3,
   "metadata": {},
   "outputs": [],
   "source": [
    "#load data\n",
    "\n",
    "X=np.genfromtxt(\"data_files/true_X.csv\", delimiter=\",\")"
   ]
  },
  {
   "cell_type": "code",
   "execution_count": 4,
   "metadata": {},
   "outputs": [
    {
     "name": "stdout",
     "output_type": "stream",
     "text": [
      "1 1\n",
      "2 3\n",
      "3 3\n",
      "4 3\n",
      "5 3\n",
      "6 3\n",
      "7 3\n",
      "8 3\n",
      "9 3\n"
     ]
    },
    {
     "data": {
      "text/plain": [
       "13.964701175689697"
      ]
     },
     "execution_count": 4,
     "metadata": {},
     "output_type": "execute_result"
    }
   ],
   "source": [
    "import numpy as np\n",
    "import time\n",
    "from IBP import gibbs_sampler\n",
    "\n",
    "t0 = time.time()\n",
    "chain_alpha,chain_sigma_a,chain_sigma_x,chain_K,chain_Z = gibbs_sampler(X,init_alpha=1,init_sig_x=0.5,init_sig_a=1.7,seed=123,mcmc=10)\n",
    "t1 = time.time()\n",
    "total=t1-t0\n",
    "total"
   ]
  },
  {
   "cell_type": "code",
   "execution_count": 17,
   "metadata": {},
   "outputs": [
    {
     "name": "stdout",
     "output_type": "stream",
     "text": [
      "1 1\n",
      "2 2\n",
      "3 2\n",
      "4 2\n",
      "5 2\n",
      "6 2\n",
      "7 2\n",
      "8 3\n",
      "9 3\n"
     ]
    },
    {
     "data": {
      "text/plain": [
       "4.582612037658691"
      ]
     },
     "execution_count": 17,
     "metadata": {},
     "output_type": "execute_result"
    }
   ],
   "source": [
    "t0 = time.time()\n",
    "chain_alpha,chain_sigma_a,chain_sigma_x,chain_K,chain_Z = gibbs_sampler(X,init_alpha=1,init_sig_x=0.5,init_sig_a=1.7,seed=123,mcmc=10)\n",
    "t1 = time.time()\n",
    "total=t1-t0\n",
    "total"
   ]
  },
  {
   "cell_type": "code",
   "execution_count": 5,
   "metadata": {},
   "outputs": [
    {
     "name": "stdout",
     "output_type": "stream",
     "text": [
      "1 1\n",
      "2 1\n",
      "3 2\n",
      "4 2\n",
      "5 2\n",
      "6 2\n",
      "7 2\n",
      "8 2\n",
      "9 2\n",
      "         863554 function calls in 162.818 seconds\n",
      "\n",
      "   Ordered by: standard name\n",
      "\n",
      "   ncalls  tottime  percall  cumtime  percall filename:lineno(function)\n",
      "    21276    0.905    0.000    0.905    0.000 :0(__array_prepare__)\n",
      "    11538    0.493    0.000    0.493    0.000 :0(abs)\n",
      "       45    0.003    0.000    0.003    0.000 :0(acquire)\n",
      "     9055    0.377    0.000    0.377    0.000 :0(append)\n",
      "    62191    2.958    0.000    2.958    0.000 :0(array)\n",
      "    31914    1.930    0.000    1.930    0.000 :0(astype)\n",
      "      901    0.519    0.001    1.480    0.002 :0(choice)\n",
      "     4500    0.353    0.000    0.353    0.000 :0(concatenate)\n",
      "     4500    0.305    0.000    0.305    0.000 :0(copyto)\n",
      "     4500    0.218    0.000    0.218    0.000 :0(empty)\n",
      "        1    0.000    0.000  162.818  162.818 :0(exec)\n",
      "     4500    0.207    0.000    0.207    0.000 :0(factorial)\n",
      "     1809    0.190    0.000    0.190    0.000 :0(gamma)\n",
      "    33715    1.395    0.000    1.395    0.000 :0(get)\n",
      "    21276    0.872    0.000    0.872    0.000 :0(getattr)\n",
      "       36    0.001    0.000    0.001    0.000 :0(getpid)\n",
      "    12402    0.538    0.000    0.538    0.000 :0(isinstance)\n",
      "    98442    4.226    0.000    4.226    0.000 :0(issubclass)\n",
      "    19638    0.804    0.000    0.804    0.000 :0(len)\n",
      "    34533    1.689    0.000    1.689    0.000 :0(max)\n",
      "    31914    1.318    0.000    1.318    0.000 :0(min)\n",
      "        9    0.002    0.000    0.050    0.006 :0(print)\n",
      "     1758    0.156    0.000    0.156    0.000 :0(rand)\n",
      "     2629    0.252    0.000    0.252    0.000 :0(reduce)\n",
      "     4501    0.227    0.000    0.227    0.000 :0(reshape)\n",
      "        1    0.000    0.000    0.000    0.000 :0(setprofile)\n",
      "     1800    0.112    0.000    0.112    0.000 :0(sum)\n",
      "    10638    1.175    0.000    1.175    0.000 :0(trace)\n",
      "     1719    0.160    0.000    0.160    0.000 :0(uniform)\n",
      "    27581    1.813    0.000    1.813    0.000 :0(zeros)\n",
      "        1    0.000    0.000  162.818  162.818 <string>:1(<module>)\n",
      "     1728    0.137    0.000    0.303    0.000 _methods.py:31(_sum)\n",
      "      901    0.073    0.000    0.159    0.000 _methods.py:34(_prod)\n",
      "    10638    1.836    0.000    4.781    0.000 fromnumeric.py:1364(trace)\n",
      "     1728    0.254    0.000    0.632    0.000 fromnumeric.py:1778(sum)\n",
      "      901    0.107    0.000    0.266    0.000 fromnumeric.py:2456(prod)\n",
      "     1801    0.175    0.000    0.265    0.000 getlimits.py:376(__new__)\n",
      "        1    1.473    1.473  162.818  162.818 gibbs.py:14(gibbs_sampler)\n",
      "       45    0.008    0.000    0.035    0.001 iostream.py:195(schedule)\n",
      "       36    0.002    0.000    0.003    0.000 iostream.py:300(_is_master_process)\n",
      "       36    0.002    0.000    0.007    0.000 iostream.py:313(_schedule_flush)\n",
      "       36    0.007    0.000    0.048    0.001 iostream.py:366(write)\n",
      "       45    0.002    0.000    0.002    0.000 iostream.py:93(_event_pipe)\n",
      "    10638   40.483    0.004  149.369    0.014 likelihood.py:11(full_X)\n",
      "    21276    1.148    0.000    1.148    0.000 linalg.py:100(get_linalg_error_extobj)\n",
      "    21276    2.858    0.000    6.356    0.000 linalg.py:105(_makearray)\n",
      "    63828    5.163    0.000    7.693    0.000 linalg.py:110(isComplexType)\n",
      "    31914    2.634    0.000    3.940    0.000 linalg.py:123(_realType)\n",
      "    31914    5.928    0.000   15.350    0.000 linalg.py:138(_commonType)\n",
      "    10638    3.904    0.000   15.019    0.001 linalg.py:1822(det)\n",
      "    31914    1.424    0.000    1.424    0.000 linalg.py:197(_assertRankAtLeast2)\n",
      "    31914    4.309    0.000    7.119    0.000 linalg.py:208(_assertNdSquareness)\n",
      "    10638   47.956    0.005   62.062    0.006 linalg.py:464(inv)\n",
      "    10638    4.902    0.000   19.071    0.002 linalg.py:534(cholesky)\n",
      "      900    2.082    0.002   77.533    0.086 new_K.py:12(new_K)\n",
      "     4500    0.563    0.000    1.086    0.000 numeric.py:146(ones)\n",
      "    31914    2.644    0.000    3.993    0.000 numeric.py:424(asarray)\n",
      "    30276    2.465    0.000    4.074    0.000 numeric.py:495(asanyarray)\n",
      "     1800    0.152    0.000    0.229    0.000 numerictypes.py:631(issubclass_)\n",
      "      900    0.163    0.000    0.430    0.000 numerictypes.py:699(issubdtype)\n",
      "        1    0.000    0.000  162.818  162.818 profile:0(gibbs_sampler(X,init_alpha=1,init_sig_x=0.5,init_sig_a=1.7,seed=123,mcmc=10);print)\n",
      "        0    0.000             0.000          profile:0(profiler)\n",
      "     9000    1.561    0.000    3.412    0.000 shape_base.py:11(atleast_1d)\n",
      "     4500    0.617    0.000    4.985    0.001 shape_base.py:236(hstack)\n",
      "     4500    0.603    0.000    4.014    0.001 shape_base.py:283(<listcomp>)\n",
      "       45    0.006    0.000    0.006    0.000 socket.py:333(send)\n",
      "       45    0.003    0.000    0.005    0.000 threading.py:1062(_wait_for_tstate_lock)\n",
      "       45    0.011    0.000    0.018    0.000 threading.py:1104(is_alive)\n",
      "       45    0.001    0.000    0.001    0.000 threading.py:506(is_set)\n",
      "    10638    1.347    0.000    2.277    0.000 twodim_base.py:140(eye)\n",
      "    10638    2.616    0.000    5.677    0.001 twodim_base.py:197(diag)\n",
      "\n",
      "\n"
     ]
    }
   ],
   "source": [
    "import profile\n",
    "profile.run(\"gibbs_sampler(X,init_alpha=1,init_sig_x=0.5,init_sig_a=1.7,seed=123,mcmc=10);print\")"
   ]
  },
  {
   "cell_type": "code",
   "execution_count": null,
   "metadata": {},
   "outputs": [],
   "source": []
  }
 ],
 "metadata": {
  "kernelspec": {
   "display_name": "Python 3",
   "language": "python",
   "name": "python3"
  },
  "language_info": {
   "codemirror_mode": {
    "name": "ipython",
    "version": 3
   },
   "file_extension": ".py",
   "mimetype": "text/x-python",
   "name": "python",
   "nbconvert_exporter": "python",
   "pygments_lexer": "ipython3",
   "version": "3.6.5"
  }
 },
 "nbformat": 4,
 "nbformat_minor": 2
}
